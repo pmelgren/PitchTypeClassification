{
 "cells": [
  {
   "cell_type": "markdown",
   "metadata": {},
   "source": [
    "# Pitch Type PCA\n",
    "### Perform PCA on Trackman Data\n",
    "\n",
    "## Background\n",
    "#### Trackman\n",
    "Trackman ia a radar-based system installed in all Major League Baseball stadiums that records various measures on every pitch thrown. The system records the location of the pitch 100 times per second, and uses those locations to calculate measures on each pitch such as velocity,  break (horizontal and vertical movement off the pitch's initial trajectory) spin rate, spin direction and many others.\n",
    "\n",
    "#### Pitch Types\n",
    "Every pitcher throws a distinct number of pitch types, and these pitch types are manually classified in the data released by MLB. However information about pitch types can be gleaned from the measures in the Trackman data. For example how fastballs have a higher velocity than curveballs, or how sliders and curveballs move to the pitcher's non-throwing-arm side, while fastballs and changeups move to the pitcher's throwing-arm side.\n",
    "\n",
    "#### Principal Components\n",
    "Much of the data in Trackman is highly correlated and have clear relationships. These relationships are not necessarily linear, but for instance, horizontal break (break x) is going to be driven by horizontal acceleration at 50 feet (ax50). Reducing the data set down to its principal component (or components) is therefore helpful in preparing our feature set for analysis. "
   ]
  },
  {
   "cell_type": "markdown",
   "metadata": {},
   "source": [
    "## Data Prep and Exploration\n",
    "\n",
    "Import the data into a DataFrame"
   ]
  },
  {
   "cell_type": "code",
   "execution_count": 1,
   "metadata": {},
   "outputs": [
    {
     "data": {
      "text/html": [
       "<div>\n",
       "<style scoped>\n",
       "    .dataframe tbody tr th:only-of-type {\n",
       "        vertical-align: middle;\n",
       "    }\n",
       "\n",
       "    .dataframe tbody tr th {\n",
       "        vertical-align: top;\n",
       "    }\n",
       "\n",
       "    .dataframe thead th {\n",
       "        text-align: right;\n",
       "    }\n",
       "</style>\n",
       "<table border=\"1\" class=\"dataframe\">\n",
       "  <thead>\n",
       "    <tr style=\"text-align: right;\">\n",
       "      <th></th>\n",
       "      <th>pitcher</th>\n",
       "      <th>p_hand</th>\n",
       "      <th>pitch_type</th>\n",
       "      <th>pitch_name</th>\n",
       "      <th>velocity</th>\n",
       "      <th>spin_rate</th>\n",
       "      <th>horz_break</th>\n",
       "      <th>vert_break</th>\n",
       "      <th>release_x</th>\n",
       "      <th>release_z</th>\n",
       "      <th>extension</th>\n",
       "      <th>plate_x</th>\n",
       "      <th>plate_z</th>\n",
       "      <th>vx0</th>\n",
       "      <th>vy0</th>\n",
       "      <th>vz0</th>\n",
       "      <th>ax</th>\n",
       "      <th>ay</th>\n",
       "      <th>az</th>\n",
       "    </tr>\n",
       "  </thead>\n",
       "  <tbody>\n",
       "    <tr>\n",
       "      <th>0</th>\n",
       "      <td>453286</td>\n",
       "      <td>R</td>\n",
       "      <td>SL</td>\n",
       "      <td>Slider</td>\n",
       "      <td>85.3</td>\n",
       "      <td>2213.0</td>\n",
       "      <td>0.1879</td>\n",
       "      <td>0.0932</td>\n",
       "      <td>-3.6817</td>\n",
       "      <td>4.8871</td>\n",
       "      <td>5.904</td>\n",
       "      <td>-0.0943</td>\n",
       "      <td>1.4981</td>\n",
       "      <td>8.0021</td>\n",
       "      <td>-124.0765</td>\n",
       "      <td>-1.9076</td>\n",
       "      <td>0.5072</td>\n",
       "      <td>22.0096</td>\n",
       "      <td>-31.0910</td>\n",
       "    </tr>\n",
       "    <tr>\n",
       "      <th>1</th>\n",
       "      <td>453286</td>\n",
       "      <td>R</td>\n",
       "      <td>FF</td>\n",
       "      <td>4-Seam Fastball</td>\n",
       "      <td>93.1</td>\n",
       "      <td>2568.0</td>\n",
       "      <td>-0.7428</td>\n",
       "      <td>1.1709</td>\n",
       "      <td>-3.7813</td>\n",
       "      <td>4.8487</td>\n",
       "      <td>6.480</td>\n",
       "      <td>-0.0185</td>\n",
       "      <td>2.2353</td>\n",
       "      <td>11.3063</td>\n",
       "      <td>-135.1627</td>\n",
       "      <td>-3.5155</td>\n",
       "      <td>-11.5300</td>\n",
       "      <td>28.1884</td>\n",
       "      <td>-17.1813</td>\n",
       "    </tr>\n",
       "    <tr>\n",
       "      <th>2</th>\n",
       "      <td>453286</td>\n",
       "      <td>R</td>\n",
       "      <td>FF</td>\n",
       "      <td>4-Seam Fastball</td>\n",
       "      <td>93.4</td>\n",
       "      <td>2421.0</td>\n",
       "      <td>-0.7818</td>\n",
       "      <td>1.1671</td>\n",
       "      <td>-3.6469</td>\n",
       "      <td>4.7835</td>\n",
       "      <td>6.503</td>\n",
       "      <td>1.1850</td>\n",
       "      <td>2.4390</td>\n",
       "      <td>14.1621</td>\n",
       "      <td>-135.3068</td>\n",
       "      <td>-2.8429</td>\n",
       "      <td>-12.6030</td>\n",
       "      <td>27.7924</td>\n",
       "      <td>-17.3131</td>\n",
       "    </tr>\n",
       "    <tr>\n",
       "      <th>3</th>\n",
       "      <td>453286</td>\n",
       "      <td>R</td>\n",
       "      <td>SL</td>\n",
       "      <td>Slider</td>\n",
       "      <td>84.0</td>\n",
       "      <td>2267.0</td>\n",
       "      <td>-0.0212</td>\n",
       "      <td>0.2403</td>\n",
       "      <td>-3.7483</td>\n",
       "      <td>4.9935</td>\n",
       "      <td>6.137</td>\n",
       "      <td>0.0360</td>\n",
       "      <td>2.6276</td>\n",
       "      <td>8.7656</td>\n",
       "      <td>-122.0618</td>\n",
       "      <td>0.3976</td>\n",
       "      <td>-1.7594</td>\n",
       "      <td>21.5489</td>\n",
       "      <td>-30.0450</td>\n",
       "    </tr>\n",
       "    <tr>\n",
       "      <th>4</th>\n",
       "      <td>453286</td>\n",
       "      <td>R</td>\n",
       "      <td>FF</td>\n",
       "      <td>4-Seam Fastball</td>\n",
       "      <td>92.8</td>\n",
       "      <td>2496.0</td>\n",
       "      <td>-0.8684</td>\n",
       "      <td>1.0067</td>\n",
       "      <td>-3.7169</td>\n",
       "      <td>4.6742</td>\n",
       "      <td>5.946</td>\n",
       "      <td>0.1655</td>\n",
       "      <td>2.7516</td>\n",
       "      <td>11.6873</td>\n",
       "      <td>-134.6450</td>\n",
       "      <td>-1.2983</td>\n",
       "      <td>-12.8010</td>\n",
       "      <td>26.7680</td>\n",
       "      <td>-19.9855</td>\n",
       "    </tr>\n",
       "  </tbody>\n",
       "</table>\n",
       "</div>"
      ],
      "text/plain": [
       "   pitcher p_hand pitch_type       pitch_name  velocity  spin_rate  \\\n",
       "0   453286      R         SL           Slider      85.3     2213.0   \n",
       "1   453286      R         FF  4-Seam Fastball      93.1     2568.0   \n",
       "2   453286      R         FF  4-Seam Fastball      93.4     2421.0   \n",
       "3   453286      R         SL           Slider      84.0     2267.0   \n",
       "4   453286      R         FF  4-Seam Fastball      92.8     2496.0   \n",
       "\n",
       "   horz_break  vert_break  release_x  release_z  extension  plate_x  plate_z  \\\n",
       "0      0.1879      0.0932    -3.6817     4.8871      5.904  -0.0943   1.4981   \n",
       "1     -0.7428      1.1709    -3.7813     4.8487      6.480  -0.0185   2.2353   \n",
       "2     -0.7818      1.1671    -3.6469     4.7835      6.503   1.1850   2.4390   \n",
       "3     -0.0212      0.2403    -3.7483     4.9935      6.137   0.0360   2.6276   \n",
       "4     -0.8684      1.0067    -3.7169     4.6742      5.946   0.1655   2.7516   \n",
       "\n",
       "       vx0       vy0     vz0       ax       ay       az  \n",
       "0   8.0021 -124.0765 -1.9076   0.5072  22.0096 -31.0910  \n",
       "1  11.3063 -135.1627 -3.5155 -11.5300  28.1884 -17.1813  \n",
       "2  14.1621 -135.3068 -2.8429 -12.6030  27.7924 -17.3131  \n",
       "3   8.7656 -122.0618  0.3976  -1.7594  21.5489 -30.0450  \n",
       "4  11.6873 -134.6450 -1.2983 -12.8010  26.7680 -19.9855  "
      ]
     },
     "execution_count": 1,
     "metadata": {},
     "output_type": "execute_result"
    }
   ],
   "source": [
    "import pandas as pd\n",
    "tm_all = pd.read_csv(\"./2018_trackman_sample.csv\").dropna(axis = 0) # remove rows with missing values\n",
    "tm_all.head()"
   ]
  },
  {
   "cell_type": "code",
   "execution_count": 2,
   "metadata": {},
   "outputs": [
    {
     "data": {
      "text/plain": [
       "23132"
      ]
     },
     "execution_count": 2,
     "metadata": {},
     "output_type": "execute_result"
    }
   ],
   "source": [
    "len(tm_all.index)"
   ]
  },
  {
   "cell_type": "markdown",
   "metadata": {},
   "source": [
    "So we have 15 features and over 23,000 rows. Some element of dimensionality reduction could clearly help make this a simpler learning task if the ultimate goal is classification. Let's look into PCA to do this then. "
   ]
  },
  {
   "cell_type": "code",
   "execution_count": 3,
   "metadata": {},
   "outputs": [
    {
     "data": {
      "text/plain": [
       "<matplotlib.axes._subplots.AxesSubplot at 0x2bf29c15b08>"
      ]
     },
     "execution_count": 3,
     "metadata": {},
     "output_type": "execute_result"
    },
    {
     "data": {
      "image/png": "[encoded data removed]",
      "text/plain": [
       "<Figure size 792x648 with 2 Axes>"
      ]
     },
     "metadata": {
      "needs_background": "light"
     },
     "output_type": "display_data"
    }
   ],
   "source": [
    "import matplotlib.pyplot as plt\n",
    "import numpy as np\n",
    "import seaborn as sns\n",
    "\n",
    "# remove pitch type as it is a categorical column\n",
    "tm = tm_all.loc[:,'velocity':'az']\n",
    "\n",
    "# get the absolute value correlation matrix for all 15 features in tm\n",
    "corr = abs(tm.corr())\n",
    "\n",
    "# set the entire upper half of the matrix equal to 0\n",
    "mask = np.triu(corr,0)\n",
    "\n",
    "# Set up the matplotlib figure\n",
    "f, ax = plt.subplots(figsize=(11, 9))\n",
    "\n",
    "# Generate a custom diverging colormap\n",
    "cmap = sns.cubehelix_palette(dark=0, light=1, as_cmap=True)\n",
    "\n",
    "# Draw the heatmap with the mask and correct aspect ratio\n",
    "sns.heatmap(corr, cmap=cmap, mask = mask, vmax=1, center=.5,\n",
    "            square=True, linewidths=.5, cbar_kws={\"shrink\": .5})"
   ]
  },
  {
   "cell_type": "markdown",
   "metadata": {},
   "source": [
    "## Principal Component Analysis\n",
    "\n",
    "There is clear correlation between many of the measures, including strong correlation between a few of the measures"
   ]
  },
  {
   "cell_type": "code",
   "execution_count": 4,
   "metadata": {},
   "outputs": [
    {
     "data": {
      "text/html": [
       "<div>\n",
       "<style scoped>\n",
       "    .dataframe tbody tr th:only-of-type {\n",
       "        vertical-align: middle;\n",
       "    }\n",
       "\n",
       "    .dataframe tbody tr th {\n",
       "        vertical-align: top;\n",
       "    }\n",
       "\n",
       "    .dataframe thead th {\n",
       "        text-align: right;\n",
       "    }\n",
       "</style>\n",
       "<table border=\"1\" class=\"dataframe\">\n",
       "  <thead>\n",
       "    <tr style=\"text-align: right;\">\n",
       "      <th></th>\n",
       "      <th>velocity</th>\n",
       "      <th>spin_rate</th>\n",
       "      <th>horz_break</th>\n",
       "      <th>vert_break</th>\n",
       "      <th>release_x</th>\n",
       "      <th>release_z</th>\n",
       "      <th>extension</th>\n",
       "      <th>plate_x</th>\n",
       "      <th>plate_z</th>\n",
       "      <th>vx0</th>\n",
       "      <th>vy0</th>\n",
       "      <th>vz0</th>\n",
       "      <th>ax</th>\n",
       "      <th>ay</th>\n",
       "      <th>az</th>\n",
       "    </tr>\n",
       "  </thead>\n",
       "  <tbody>\n",
       "    <tr>\n",
       "      <th>0</th>\n",
       "      <td>-0.003353</td>\n",
       "      <td>-0.999963</td>\n",
       "      <td>-0.000165</td>\n",
       "      <td>0.000003</td>\n",
       "      <td>0.001655</td>\n",
       "      <td>-0.000375</td>\n",
       "      <td>0.000473</td>\n",
       "      <td>-0.000302</td>\n",
       "      <td>-0.000284</td>\n",
       "      <td>-0.004558</td>\n",
       "      <td>0.00463</td>\n",
       "      <td>0.000794</td>\n",
       "      <td>0.000509</td>\n",
       "      <td>-0.00361</td>\n",
       "      <td>-0.001963</td>\n",
       "    </tr>\n",
       "  </tbody>\n",
       "</table>\n",
       "</div>"
      ],
      "text/plain": [
       "   velocity  spin_rate  horz_break  vert_break  release_x  release_z  \\\n",
       "0 -0.003353  -0.999963   -0.000165    0.000003   0.001655  -0.000375   \n",
       "\n",
       "   extension   plate_x   plate_z       vx0      vy0       vz0        ax  \\\n",
       "0   0.000473 -0.000302 -0.000284 -0.004558  0.00463  0.000794  0.000509   \n",
       "\n",
       "        ay        az  \n",
       "0 -0.00361 -0.001963  "
      ]
     },
     "execution_count": 4,
     "metadata": {},
     "output_type": "execute_result"
    }
   ],
   "source": [
    "from sklearn.decomposition import PCA\n",
    "pca = PCA(.9).fit(tm)\n",
    "pd.DataFrame(pca.components_, columns = tm.columns)"
   ]
  },
  {
   "cell_type": "markdown",
   "metadata": {},
   "source": [
    "The scale of the data is clearly throwing off the PCA (as spin rate is overpowering everything else). So we will scale the data and perform the analysis again"
   ]
  },
  {
   "cell_type": "markdown",
   "metadata": {},
   "source": [
    "Based on the Velo vs Spin plot, it looks like K-means is overvaluing spin rate and undervaluing velocity. This is most likely due to the higher variance for Spin Rate compared to Velocity. To account for this, we'll repeat the clustering with normalized data."
   ]
  },
  {
   "cell_type": "code",
   "execution_count": 5,
   "metadata": {},
   "outputs": [
    {
     "data": {
      "text/html": [
       "<div>\n",
       "<style scoped>\n",
       "    .dataframe tbody tr th:only-of-type {\n",
       "        vertical-align: middle;\n",
       "    }\n",
       "\n",
       "    .dataframe tbody tr th {\n",
       "        vertical-align: top;\n",
       "    }\n",
       "\n",
       "    .dataframe thead th {\n",
       "        text-align: right;\n",
       "    }\n",
       "</style>\n",
       "<table border=\"1\" class=\"dataframe\">\n",
       "  <thead>\n",
       "    <tr style=\"text-align: right;\">\n",
       "      <th></th>\n",
       "      <th>velocity</th>\n",
       "      <th>spin_rate</th>\n",
       "      <th>horz_break</th>\n",
       "      <th>vert_break</th>\n",
       "      <th>release_x</th>\n",
       "      <th>release_z</th>\n",
       "      <th>extension</th>\n",
       "      <th>plate_x</th>\n",
       "      <th>plate_z</th>\n",
       "      <th>vx0</th>\n",
       "      <th>vy0</th>\n",
       "      <th>vz0</th>\n",
       "      <th>ax</th>\n",
       "      <th>ay</th>\n",
       "      <th>az</th>\n",
       "    </tr>\n",
       "  </thead>\n",
       "  <tbody>\n",
       "    <tr>\n",
       "      <th>0</th>\n",
       "      <td>-0.371800</td>\n",
       "      <td>-0.071857</td>\n",
       "      <td>0.301564</td>\n",
       "      <td>-0.364966</td>\n",
       "      <td>0.124478</td>\n",
       "      <td>-0.024253</td>\n",
       "      <td>-0.075763</td>\n",
       "      <td>0.026906</td>\n",
       "      <td>-0.145061</td>\n",
       "      <td>-0.201724</td>\n",
       "      <td>0.369884</td>\n",
       "      <td>0.224625</td>\n",
       "      <td>0.312627</td>\n",
       "      <td>-0.348702</td>\n",
       "      <td>-0.376270</td>\n",
       "    </tr>\n",
       "    <tr>\n",
       "      <th>1</th>\n",
       "      <td>0.130452</td>\n",
       "      <td>-0.077054</td>\n",
       "      <td>0.238053</td>\n",
       "      <td>0.176542</td>\n",
       "      <td>0.545701</td>\n",
       "      <td>0.343687</td>\n",
       "      <td>0.012337</td>\n",
       "      <td>0.033704</td>\n",
       "      <td>-0.012317</td>\n",
       "      <td>-0.485642</td>\n",
       "      <td>-0.135523</td>\n",
       "      <td>-0.310993</td>\n",
       "      <td>0.289808</td>\n",
       "      <td>0.083946</td>\n",
       "      <td>0.172890</td>\n",
       "    </tr>\n",
       "    <tr>\n",
       "      <th>2</th>\n",
       "      <td>-0.010324</td>\n",
       "      <td>0.516663</td>\n",
       "      <td>0.150114</td>\n",
       "      <td>-0.105335</td>\n",
       "      <td>-0.184494</td>\n",
       "      <td>0.390066</td>\n",
       "      <td>-0.504004</td>\n",
       "      <td>0.339142</td>\n",
       "      <td>-0.137663</td>\n",
       "      <td>0.223275</td>\n",
       "      <td>0.021565</td>\n",
       "      <td>-0.218694</td>\n",
       "      <td>0.086311</td>\n",
       "      <td>0.130092</td>\n",
       "      <td>-0.051264</td>\n",
       "    </tr>\n",
       "    <tr>\n",
       "      <th>3</th>\n",
       "      <td>-0.073657</td>\n",
       "      <td>-0.276469</td>\n",
       "      <td>-0.084313</td>\n",
       "      <td>0.013704</td>\n",
       "      <td>-0.023434</td>\n",
       "      <td>-0.063768</td>\n",
       "      <td>0.291535</td>\n",
       "      <td>0.339539</td>\n",
       "      <td>-0.672856</td>\n",
       "      <td>0.168240</td>\n",
       "      <td>0.077565</td>\n",
       "      <td>-0.448389</td>\n",
       "      <td>-0.081245</td>\n",
       "      <td>-0.105046</td>\n",
       "      <td>0.014271</td>\n",
       "    </tr>\n",
       "    <tr>\n",
       "      <th>4</th>\n",
       "      <td>-0.181318</td>\n",
       "      <td>-0.122267</td>\n",
       "      <td>-0.388583</td>\n",
       "      <td>-0.093458</td>\n",
       "      <td>0.028333</td>\n",
       "      <td>0.416505</td>\n",
       "      <td>-0.262892</td>\n",
       "      <td>-0.569512</td>\n",
       "      <td>-0.160043</td>\n",
       "      <td>-0.120471</td>\n",
       "      <td>0.185801</td>\n",
       "      <td>-0.195930</td>\n",
       "      <td>-0.324932</td>\n",
       "      <td>-0.033523</td>\n",
       "      <td>-0.070470</td>\n",
       "    </tr>\n",
       "    <tr>\n",
       "      <th>5</th>\n",
       "      <td>-0.165599</td>\n",
       "      <td>-0.459393</td>\n",
       "      <td>-0.176428</td>\n",
       "      <td>0.095322</td>\n",
       "      <td>0.121956</td>\n",
       "      <td>0.367154</td>\n",
       "      <td>-0.102850</td>\n",
       "      <td>0.527326</td>\n",
       "      <td>0.409701</td>\n",
       "      <td>0.158517</td>\n",
       "      <td>0.168879</td>\n",
       "      <td>0.148304</td>\n",
       "      <td>-0.166262</td>\n",
       "      <td>-0.094664</td>\n",
       "      <td>0.053804</td>\n",
       "    </tr>\n",
       "  </tbody>\n",
       "</table>\n",
       "</div>"
      ],
      "text/plain": [
       "   velocity  spin_rate  horz_break  vert_break  release_x  release_z  \\\n",
       "0 -0.371800  -0.071857    0.301564   -0.364966   0.124478  -0.024253   \n",
       "1  0.130452  -0.077054    0.238053    0.176542   0.545701   0.343687   \n",
       "2 -0.010324   0.516663    0.150114   -0.105335  -0.184494   0.390066   \n",
       "3 -0.073657  -0.276469   -0.084313    0.013704  -0.023434  -0.063768   \n",
       "4 -0.181318  -0.122267   -0.388583   -0.093458   0.028333   0.416505   \n",
       "5 -0.165599  -0.459393   -0.176428    0.095322   0.121956   0.367154   \n",
       "\n",
       "   extension   plate_x   plate_z       vx0       vy0       vz0        ax  \\\n",
       "0  -0.075763  0.026906 -0.145061 -0.201724  0.369884  0.224625  0.312627   \n",
       "1   0.012337  0.033704 -0.012317 -0.485642 -0.135523 -0.310993  0.289808   \n",
       "2  -0.504004  0.339142 -0.137663  0.223275  0.021565 -0.218694  0.086311   \n",
       "3   0.291535  0.339539 -0.672856  0.168240  0.077565 -0.448389 -0.081245   \n",
       "4  -0.262892 -0.569512 -0.160043 -0.120471  0.185801 -0.195930 -0.324932   \n",
       "5  -0.102850  0.527326  0.409701  0.158517  0.168879  0.148304 -0.166262   \n",
       "\n",
       "         ay        az  \n",
       "0 -0.348702 -0.376270  \n",
       "1  0.083946  0.172890  \n",
       "2  0.130092 -0.051264  \n",
       "3 -0.105046  0.014271  \n",
       "4 -0.033523 -0.070470  \n",
       "5 -0.094664  0.053804  "
      ]
     },
     "execution_count": 5,
     "metadata": {},
     "output_type": "execute_result"
    }
   ],
   "source": [
    "from sklearn.preprocessing import scale\n",
    "tm_scaled = scale(tm)\n",
    "pca_scaled = PCA(.9).fit(tm_scaled)\n",
    "pd.DataFrame(pca_scaled.components_, columns = tm.columns)"
   ]
  },
  {
   "cell_type": "code",
   "execution_count": 6,
   "metadata": {},
   "outputs": [
    {
     "data": {
      "text/plain": [
       "array([6.07320237, 2.39765393, 1.97506083, 1.47419563, 1.12904919,\n",
       "       0.71299801])"
      ]
     },
     "execution_count": 6,
     "metadata": {},
     "output_type": "execute_result"
    }
   ],
   "source": [
    "# check the explained variance of the components\n",
    "pca_scaled.explained_variance_"
   ]
  },
  {
   "cell_type": "markdown",
   "metadata": {},
   "source": [
    "With our princinpal components figured out, its time to apply the principal components to logistic regression. "
   ]
  },
  {
   "cell_type": "code",
   "execution_count": 7,
   "metadata": {},
   "outputs": [
    {
     "name": "stdout",
     "output_type": "stream",
     "text": [
      "Logit regression using PCA returns a 95.92% accuracy rate.\n"
     ]
    }
   ],
   "source": [
    "from sklearn.linear_model import LogisticRegression\n",
    "pca_train = pca_scaled.transform(tm_scaled)\n",
    "is_fb = np.isin(tm_all.pitch_type,['FF','SI'])\n",
    "\n",
    "fb_logit = LogisticRegression()\n",
    "fb_logit.fit(pca_train,is_fb)\n",
    "print(\"Logit regression using PCA returns a {:.2%} accuracy rate.\".format(fb_logit.score(pca_train,is_fb)))"
   ]
  }
 ],
 "metadata": {
  "kernelspec": {
   "display_name": "Python 3",
   "language": "python",
   "name": "python3"
  },
  "language_info": {
   "codemirror_mode": {
    "name": "ipython",
    "version": 3
   },
   "file_extension": ".py",
   "mimetype": "text/x-python",
   "name": "python",
   "nbconvert_exporter": "python",
   "pygments_lexer": "ipython3",
   "version": "3.7.4"
  }
 },
 "nbformat": 4,
 "nbformat_minor": 4
}
