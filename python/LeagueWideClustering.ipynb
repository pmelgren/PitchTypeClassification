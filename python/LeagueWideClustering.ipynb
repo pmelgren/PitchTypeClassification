{
 "cells": [
  {
   "cell_type": "markdown",
   "metadata": {},
   "source": [
    "# Pitch Type Classification and Clustering\n",
    "#### Automate clustering of an individual pitcher's arsenal.\n",
    "\n",
    "## Background\n",
    "#### Trackman\n",
    "Trackman ia a radar-based system installed in all Major League Baseball stadiums that records various measures on every pitch thrown. The system records the location of the pitch 100 times per second, and uses those locations to calculate measures on each pitch such as velocity,  break (horizontal and vertical movement off the pitch's initial trajectory) spin rate, spin direction and many others.\n",
    "\n",
    "#### Pitch Types\n",
    "Almost every pitch thrown in Major League Baseball is intended to be one of 8 pitch types, and most individual pitchers use between 3 to 5 of these pitch types (known as that pitcher's \"arsenal\"). As pitchers do not declare what pitch type they are throwing, traditionally the types are tagged manually by a trained eye. However, information about pitch types can be gleaned from the measures in the Trackman data as well, and the precise measures in Trackman might lead to more accurate classifications than manual tagging.\n",
    "\n",
    "#### Clustering and classification\n",
    "Trackman data already has manual labels, so in theory a classification algorithm could be used without having re-cluster all pitches. But an automated clustering process can be useful to remove the subjectivity in pitch type labeling. \n",
    "Furthermore, while the pitch clusters are known across baseball as a whole, clustering is useful on an individual pitcher basis as each individual pitcher's arsenal is unknown. So the first step to classifying a pithcer's arsenal is to group his individual pitches into specific pitch types, then a classification algorithm can label those pitch types."
   ]
  },
  {
   "cell_type": "markdown",
   "metadata": {},
   "source": [
    "## League-wide Clustering\n",
    "We'll begin by clustering all pitches from the 2018 season."
   ]
  },
  {
   "cell_type": "code",
   "execution_count": 1,
   "metadata": {},
   "outputs": [
    {
     "data": {
      "text/plain": [
       "23132"
      ]
     },
     "execution_count": 1,
     "metadata": {},
     "output_type": "execute_result"
    }
   ],
   "source": [
    "import pandas as pd\n",
    "tm = pd.read_csv(\"./2018_trackman_sample.csv\").dropna(axis = 0) # remove rows with missing values\n",
    "len(tm.index)"
   ]
  },
  {
   "cell_type": "code",
   "execution_count": 2,
   "metadata": {},
   "outputs": [
    {
     "data": {
      "image/png": "[encoded data removed]",
      "text/plain": [
       "<Figure size 432x288 with 1 Axes>"
      ]
     },
     "metadata": {
      "needs_background": "light"
     },
     "output_type": "display_data"
    }
   ],
   "source": [
    "# plot density across horz break and vert break for right handers\n",
    "import matplotlib.pyplot as plt\n",
    "plt.hist2d(tm[tm.p_hand == \"R\"].horz_break\n",
    "           ,tm[tm.p_hand == \"R\"].vert_break\n",
    "           ,bins = [100,100]\n",
    "          ,range = [[-2,2],[-2,2]])\n",
    "plt.show()"
   ]
  },
  {
   "cell_type": "code",
   "execution_count": 3,
   "metadata": {},
   "outputs": [
    {
     "data": {
      "text/plain": [
       "pitch_type  pitch_name     \n",
       "FF          4-Seam Fastball    9746\n",
       "SL          Slider             4145\n",
       "CH          Changeup           2645\n",
       "FT          2-Seam Fastball    2330\n",
       "FC          Cutter             1625\n",
       "CU          Curveball          1275\n",
       "KC          Knuckle Curve      1247\n",
       "EP          Eephus              114\n",
       "PO          Pitch Out             5\n",
       "Name: pitcher, dtype: int64"
      ]
     },
     "execution_count": 3,
     "metadata": {},
     "output_type": "execute_result"
    }
   ],
   "source": [
    "tm.groupby(['pitch_type','pitch_name']).count().pitcher.sort_values(ascending = False)"
   ]
  }
 ],
 "metadata": {
  "kernelspec": {
   "display_name": "Python 3",
   "language": "python",
   "name": "python3"
  },
  "language_info": {
   "codemirror_mode": {
    "name": "ipython",
    "version": 3
   },
   "file_extension": ".py",
   "mimetype": "text/x-python",
   "name": "python",
   "nbconvert_exporter": "python",
   "pygments_lexer": "ipython3",
   "version": "3.7.4"
  }
 },
 "nbformat": 4,
 "nbformat_minor": 4
}
